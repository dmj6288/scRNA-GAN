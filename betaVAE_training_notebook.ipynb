{
 "cells": [
  {
   "cell_type": "code",
   "execution_count": 1,
   "id": "4109a940-0e39-4c87-a4a9-d1b14b3c0970",
   "metadata": {},
   "outputs": [
    {
     "ename": "ModuleNotFoundError",
     "evalue": "No module named 'betaVAE'",
     "output_type": "error",
     "traceback": [
      "\u001b[0;31m---------------------------------------------------------------------------\u001b[0m",
      "\u001b[0;31mModuleNotFoundError\u001b[0m                       Traceback (most recent call last)",
      "Cell \u001b[0;32mIn[1], line 17\u001b[0m\n\u001b[1;32m     14\u001b[0m \u001b[38;5;28;01mfrom\u001b[39;00m\u001b[38;5;250m \u001b[39m\u001b[38;5;21;01mwarmup_scheduler\u001b[39;00m\u001b[38;5;250m \u001b[39m\u001b[38;5;28;01mimport\u001b[39;00m GradualWarmupScheduler\n\u001b[1;32m     16\u001b[0m \u001b[38;5;66;03m# from model import *\u001b[39;00m\n\u001b[0;32m---> 17\u001b[0m \u001b[38;5;28;01mfrom\u001b[39;00m\u001b[38;5;250m \u001b[39m\u001b[38;5;21;01mbetaVAE\u001b[39;00m\u001b[38;5;250m \u001b[39m\u001b[38;5;28;01mimport\u001b[39;00m \u001b[38;5;241m*\u001b[39m\n\u001b[1;32m     18\u001b[0m \u001b[38;5;28;01mfrom\u001b[39;00m\u001b[38;5;250m \u001b[39m\u001b[38;5;21;01mread_data\u001b[39;00m\u001b[38;5;250m \u001b[39m\u001b[38;5;28;01mimport\u001b[39;00m \u001b[38;5;241m*\u001b[39m\n\u001b[1;32m     19\u001b[0m \u001b[38;5;28;01mfrom\u001b[39;00m\u001b[38;5;250m \u001b[39m\u001b[38;5;21;01mutils\u001b[39;00m\u001b[38;5;250m \u001b[39m\u001b[38;5;28;01mimport\u001b[39;00m \u001b[38;5;241m*\u001b[39m\n",
      "\u001b[0;31mModuleNotFoundError\u001b[0m: No module named 'betaVAE'"
     ]
    }
   ],
   "source": [
    "import os\n",
    "import json\n",
    "import argparse\n",
    "import datetime\n",
    "import pickle\n",
    "\n",
    "import numpy as np\n",
    "import torch\n",
    "from torch.optim import Adam, SGD, RAdam\n",
    "from torch.utils.data import DataLoader, RandomSampler, SequentialSampler\n",
    "from tensorboardX import SummaryWriter\n",
    "from torchvision import transforms\n",
    "from sklearn.model_selection import train_test_split\n",
    "from warmup_scheduler import GradualWarmupScheduler\n",
    "\n",
    "# from model import *\n",
    "from betaVAE import *\n",
    "from read_data import *\n",
    "from utils import *"
   ]
  },
  {
   "cell_type": "code",
   "execution_count": null,
   "id": "87817e8c-3ca7-4e2c-829b-d2bf503a833e",
   "metadata": {},
   "outputs": [],
   "source": [
    "# Simulating argparse functionality in a Jupyter Notebook\n",
    "class Args:\n",
    "    def __init__(self):\n",
    "        self.config = 'config.json'  # Example: replace with your default config file\n",
    "        self.checkpoint = None       # Example: replace with your default checkpoint if any\n",
    "        self.seed = 99\n",
    "        self.log = 0\n",
    "        self.parallel = None\n",
    "\n",
    "# Instantiate the simulated args\n",
    "args = Args()\n",
    "\n",
    "# Access the arguments like this:\n",
    "print(f\"Config file: {args.config}\")\n",
    "print(f\"Checkpoint: {args.checkpoint}\")\n",
    "print(f\"Seed: {args.seed}\")\n",
    "print(f\"Log: {args.log}\")\n",
    "print(f\"Parallel: {args.parallel}\")\n"
   ]
  }
 ],
 "metadata": {
  "kernelspec": {
   "display_name": "Python 3 (ipykernel)",
   "language": "python",
   "name": "python3"
  },
  "language_info": {
   "codemirror_mode": {
    "name": "ipython",
    "version": 3
   },
   "file_extension": ".py",
   "mimetype": "text/x-python",
   "name": "python",
   "nbconvert_exporter": "python",
   "pygments_lexer": "ipython3",
   "version": "3.12.8"
  }
 },
 "nbformat": 4,
 "nbformat_minor": 5
}
