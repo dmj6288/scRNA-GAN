{
 "cells": [
  {
   "cell_type": "code",
   "execution_count": 1,
   "id": "4109a940-0e39-4c87-a4a9-d1b14b3c0970",
   "metadata": {},
   "outputs": [],
   "source": [
    "import os\n",
    "import json\n",
    "import argparse\n",
    "import datetime\n",
    "import pickle\n",
    "\n",
    "import numpy as np\n",
    "import torch\n",
    "from torch.optim import Adam, SGD, RAdam\n",
    "from torch.utils.data import DataLoader, RandomSampler, SequentialSampler\n",
    "from tensorboardX import SummaryWriter\n",
    "from torchvision import transforms\n",
    "from sklearn.model_selection import train_test_split\n",
    "from warmup_scheduler import GradualWarmupScheduler\n",
    "\n",
    "# from model import *\n",
    "from betaVAE import *\n",
    "from read_data import *\n",
    "from utils import *"
   ]
  },
  {
   "cell_type": "code",
   "execution_count": 24,
   "id": "87817e8c-3ca7-4e2c-829b-d2bf503a833e",
   "metadata": {},
   "outputs": [
    {
     "name": "stdout",
     "output_type": "stream",
     "text": [
      "Config file: ../configs/betavae_tissues.json\n",
      "Checkpoint: None\n",
      "Seed: 99\n",
      "Log: 0\n",
      "Parallel: None\n"
     ]
    }
   ],
   "source": [
    "# Simulating argparse functionality in a Jupyter Notebook\n",
    "class Args:\n",
    "    def __init__(self):\n",
    "        self.config = '../configs/betavae_tissues.json'  # Example: replace with your default config file\n",
    "        self.checkpoint = None       # Example: replace with your default checkpoint if any\n",
    "        self.seed = 99\n",
    "        self.log = 0\n",
    "        self.parallel = None\n",
    "\n",
    "# Instantiate the simulated args\n",
    "args = Args()\n",
    "\n",
    "# Access the arguments like this:\n",
    "print(f\"Config file: {args.config}\")\n",
    "print(f\"Checkpoint: {args.checkpoint}\")\n",
    "print(f\"Seed: {args.seed}\")\n",
    "print(f\"Log: {args.log}\")\n",
    "print(f\"Parallel: {args.parallel}\")\n"
   ]
  },
  {
   "cell_type": "code",
   "execution_count": 25,
   "id": "4ee3a1c5-ad53-417a-b475-61c20750f1f6",
   "metadata": {},
   "outputs": [],
   "source": [
    "with open(args.config) as f:\n",
    "    config = json.load(f)"
   ]
  },
  {
   "cell_type": "code",
   "execution_count": 26,
   "id": "25a0fa88-8664-45c3-b995-0dc86b0b0e08",
   "metadata": {},
   "outputs": [
    {
     "data": {
      "text/plain": [
       "{'path_csv': ['../../RNA/data_for_beta_VAE/GTex_Lung_data_SSL_proteincoding.csv',\n",
       "  '../../RNA/data_for_beta_VAE/GTex_BrainCortex_proteincoding.csv',\n",
       "  '../../RNA/data_for_beta_VAE/GTex_Liver_proteincoding.csv',\n",
       "  '../../RNA/data_for_beta_VAE/GTex_Stomach_proteincoding.csv',\n",
       "  '../../RNA/data_for_beta_VAE/GTex_Pancreas_proteincoding.csv'],\n",
       " 'patch_data_path': '../../Histology/Lung_Patches256x256/',\n",
       " 'img_size': 256,\n",
       " 'max_patch_per_wsi': 100,\n",
       " 'rna_features': 19198,\n",
       " 'weights_decay': 0,\n",
       " 'lr': 5e-05,\n",
       " 'num_epochs': 500,\n",
       " 'n_workers': 4,\n",
       " 'device': 0,\n",
       " 'flag': 'betavae_proteincoding_tissues',\n",
       " 'save_dir': '../checkpoints/betavae_training_tissues/',\n",
       " 'summary_path': '../summaries_betavae_tissues/',\n",
       " 'log_interval': 20,\n",
       " 'bag_size': 40,\n",
       " 'batch_size': 128,\n",
       " 'beta': 0.0005,\n",
       " 'quick': 0,\n",
       " 'optimizer': 'Adam'}"
      ]
     },
     "execution_count": 26,
     "metadata": {},
     "output_type": "execute_result"
    }
   ],
   "source": [
    "config"
   ]
  },
  {
   "cell_type": "code",
   "execution_count": 5,
   "id": "55b7a890-fa8f-4242-bcf6-08405f8f9d3a",
   "metadata": {},
   "outputs": [
    {
     "name": "stdout",
     "output_type": "stream",
     "text": [
      "----------\n",
      "Config for this experiment \n",
      "\n",
      "{'path_csv': ['../../RNA/data_for_beta_VAE/GTex_Lung_data_SSL_proteincoding.csv', '../../RNA/data_for_beta_VAE/GTex_BrainCortex_proteincoding.csv', '../../RNA/data_for_beta_VAE/GTex_Liver_proteincoding.csv', '../../RNA/data_for_beta_VAE/GTex_Stomach_proteincoding.csv', '../../RNA/data_for_beta_VAE/GTex_Pancreas_proteincoding.csv'], 'patch_data_path': '../../Histology/Lung_Patches256x256/', 'img_size': 256, 'max_patch_per_wsi': 100, 'rna_features': 19198, 'weights_decay': 0, 'lr': 5e-05, 'num_epochs': 500, 'n_workers': 4, 'device': 0, 'flag': 'betavae_proteincoding_tissues', 'save_dir': '../checkpoints/betavae_training_tissues/', 'summary_path': '../summaries_betavae_tissues/', 'log_interval': 20, 'bag_size': 40, 'batch_size': 128, 'beta': 0.0005, 'quick': 0, 'optimizer': 'Adam'}\n",
      "----------\n"
     ]
    }
   ],
   "source": [
    "print(10*'-')\n",
    "print('Config for this experiment \\n')\n",
    "print(config)\n",
    "print(10*'-')\n",
    "\n",
    "if 'flag' in config:\n",
    "    args.flag = config['flag']\n",
    "else:\n",
    "    args.flag = 'train_{date:%Y-%m-%d %H:%M:%S}'.format(date=datetime.datetime.now())\n",
    "\n",
    "if not os.path.exists(config['save_dir']):\n",
    "    os.mkdir(config['save_dir'])"
   ]
  },
  {
   "cell_type": "code",
   "execution_count": 6,
   "id": "65e3b8ea-6e42-486e-af3d-d46933c8af0e",
   "metadata": {},
   "outputs": [
    {
     "name": "stdout",
     "output_type": "stream",
     "text": [
      "Loading dataset...\n"
     ]
    }
   ],
   "source": [
    "path_csv = config['path_csv']\n",
    "rna_features = config['rna_features']\n",
    "batch_size = config.get('batch_size', 64)\n",
    "encoder_checkpoint = config.get('encoder_checkpoint', None)\n",
    "beta = config.get('beta', 2)\n",
    "quick = config.get('quick', 0)\n",
    "opt = config.get('optimizer', 'Adam')\n",
    "\n",
    "print('Loading dataset...')\n",
    "\n",
    "datasets = {\n",
    "    'train': [],\n",
    "    'test': [],\n",
    "    'val': []\n",
    "}\n",
    "\n",
    "test_labels = []"
   ]
  },
  {
   "cell_type": "code",
   "execution_count": 7,
   "id": "4ade2c4e-6f2f-4f14-bd53-829ecb835eeb",
   "metadata": {},
   "outputs": [],
   "source": [
    "def normalize_dfs(train_df, val_df, test_df, labels=False, norm_type='standard'):\n",
    "    def _get_log(x):\n",
    "        # trick to take into account zeros\n",
    "        x = np.log(x.replace(0, np.nan))\n",
    "        return x.replace(np.nan, 0)\n",
    "    # get list of columns to scale\n",
    "    rna_columns = [x for x in train_df.columns if 'rna_' in x]\n",
    "    \n",
    "    \n",
    "    # log transform\n",
    "    train_df[rna_columns] = train_df[rna_columns].apply(_get_log)\n",
    "    val_df[rna_columns] = val_df[rna_columns].apply(_get_log)\n",
    "    test_df[rna_columns] = test_df[rna_columns].apply(_get_log)\n",
    "    \n",
    "    \n",
    "    train_df = train_df[rna_columns+['wsi_file_name']]\n",
    "    val_df = val_df[rna_columns+['wsi_file_name']]\n",
    "    test_df = test_df[rna_columns+['wsi_file_name']]\n",
    "    \n",
    "    rna_values = train_df[rna_columns].values\n",
    "\n",
    "    if norm_type == 'standard':\n",
    "        scaler = StandardScaler()\n",
    "    elif norm_type == 'minmax':\n",
    "        scaler = MinMaxScaler(feature_range=(0,1))\n",
    "    rna_values = scaler.fit_transform(rna_values)\n",
    "\n",
    "    train_df[rna_columns] = rna_values\n",
    "    test_df[rna_columns] = scaler.transform(test_df[rna_columns].values)\n",
    "    val_df[rna_columns] = scaler.transform(val_df[rna_columns].values)\n",
    "\n",
    "    return train_df, val_df, test_df, scaler"
   ]
  },
  {
   "cell_type": "code",
   "execution_count": 8,
   "id": "c51e6115-dae6-4cf1-90c6-4e697291c544",
   "metadata": {},
   "outputs": [
    {
     "name": "stdout",
     "output_type": "stream",
     "text": [
      "../../RNA/data_for_beta_VAE/GTex_Lung_data_SSL_proteincoding.csv\n",
      "../../RNA/data_for_beta_VAE/GTex_BrainCortex_proteincoding.csv\n",
      "../../RNA/data_for_beta_VAE/GTex_Liver_proteincoding.csv\n",
      "../../RNA/data_for_beta_VAE/GTex_Stomach_proteincoding.csv\n",
      "../../RNA/data_for_beta_VAE/GTex_Pancreas_proteincoding.csv\n"
     ]
    }
   ],
   "source": [
    "for id, dataset in enumerate(path_csv):\n",
    "    print(dataset)\n",
    "    df = pd.read_csv(dataset)\n",
    "\n",
    "    df_transposed = df.set_index('gene_id').transpose().reset_index()\n",
    "    df_transposed.rename(columns={'index': 'wsi_file_name'}, inplace=True)\n",
    "\n",
    "    train_df, test_df = train_test_split(df_transposed, test_size=0.2)\n",
    "\n",
    "    train_df, val_df = train_test_split(train_df, test_size=0.2)\n",
    "\n",
    "    train_df, val_df, test_df, scaler = normalize_dfs(train_df, val_df, test_df, norm_type='minmax')\n",
    "\n",
    "    datasets['train'].append(train_df)\n",
    "    datasets['test'].append(test_df)\n",
    "    datasets['val'].append(val_df)\n",
    "    \n",
    "    test_labels = test_labels + ([id] * test_df.shape[0])"
   ]
  },
  {
   "cell_type": "code",
   "execution_count": 10,
   "id": "988bc980-b42b-444c-be3f-63fba5b4215f",
   "metadata": {},
   "outputs": [
    {
     "name": "stdout",
     "output_type": "stream",
     "text": [
      "Train shape (1084, 19199)\n",
      "Val shape (274, 19199)\n",
      "Test shape (341, 19199)\n"
     ]
    },
    {
     "name": "stderr",
     "output_type": "stream",
     "text": [
      "/home/dennis00/anaconda3/envs/scRNA-GAN-TF/lib/python3.12/site-packages/pandas/core/arraylike.py:399: RuntimeWarning: invalid value encountered in log\n",
      "  result = getattr(ufunc, method)(*inputs, **kwargs)\n",
      "/home/dennis00/anaconda3/envs/scRNA-GAN-TF/lib/python3.12/site-packages/pandas/core/arraylike.py:399: RuntimeWarning: invalid value encountered in log\n",
      "  result = getattr(ufunc, method)(*inputs, **kwargs)\n",
      "1084it [00:12, 89.38it/s]\n",
      "274it [00:03, 81.05it/s]\n",
      "341it [00:03, 88.82it/s]\n"
     ]
    }
   ],
   "source": [
    "if(len(datasets['train']) >=2):\n",
    "    train_df = pd.concat([datasets['train'][0], datasets['train'][1]])\n",
    "    val_df = pd.concat([datasets['val'][0], datasets['val'][1]])\n",
    "    test_df = pd.concat([datasets['test'][0], datasets['test'][1]])\n",
    "    for i in range(2, len(datasets['train'])):\n",
    "        train_df = pd.concat([train_df, datasets['train'][i]])\n",
    "        val_df = pd.concat([val_df, datasets['val'][i]])\n",
    "        test_df = pd.concat([test_df, datasets['test'][i]])\n",
    "else:\n",
    "    train_df = datasets['train'][0]\n",
    "    val_df = datasets['val'][0]\n",
    "    test_df = datasets['test'][0]\n",
    "\n",
    "print('Train shape {}'.format(train_df.shape))\n",
    "print('Val shape {}'.format(val_df.shape))\n",
    "print('Test shape {}'.format(test_df.shape))\n",
    "train_df, val_df, test_df, scaler = normalize_dfs(train_df, val_df, test_df, norm_type='standard')\n",
    "\n",
    "train_dataset = RNADataset([train_df], quick=quick)\n",
    "val_dataset = RNADataset([val_df])\n",
    "test_dataset = RNADataset([test_df])\n",
    "\n",
    "train_dataloader = DataLoader(train_dataset,batch_size=batch_size, \n",
    "               num_workers=16, shuffle=True)\n",
    "val_dataloader = DataLoader(val_dataset,batch_size=batch_size, \n",
    "               num_workers=16, \n",
    "               shuffle=False)\n",
    "test_dataloader = DataLoader(test_dataset,batch_size=1, \n",
    "               num_workers=16, \n",
    "               shuffle=False)"
   ]
  },
  {
   "cell_type": "code",
   "execution_count": 23,
   "id": "8b2a92f1-4c62-4ebc-8623-4d8f23d87d73",
   "metadata": {},
   "outputs": [],
   "source": [
    "encoder_checkpoint"
   ]
  },
  {
   "cell_type": "code",
   "execution_count": 29,
   "id": "f6741a54-0fa5-4318-972b-67c431d98b3e",
   "metadata": {},
   "outputs": [
    {
     "name": "stdout",
     "output_type": "stream",
     "text": [
      "Finished loading dataset and creating dataloader\n",
      "Initializing models\n",
      "Model initialized\n"
     ]
    }
   ],
   "source": [
    "print('Finished loading dataset and creating dataloader')\n",
    "\n",
    "print('Initializing models')\n",
    "\n",
    "\n",
    "if encoder_checkpoint:\n",
    "    model = betaVAE(rna_features, 2048, [12000, 4096, 2048], [4096, 12000],\n",
    "                      encoder_checkpoint=encoder_checkpoint)\n",
    "    if args.checkpoint is not None:\n",
    "        print('Restoring from checkpoint')\n",
    "        print(args.checkpoint)\n",
    "        model.load_state_dict(torch.load(args.checkpoint))\n",
    "        print('Loaded model from checkpoint')\n",
    "    else:\n",
    "        model.z_mu.apply(init_weights_uniform)\n",
    "        model.decoder.apply(init_weights_uniform)\n",
    "        model.z_logvar.apply(init_weights_uniform)\n",
    "else:\n",
    "    model = betaVAE(rna_features, 2048, [6000, 4000, 2048], [4000, 6000], beta=beta)\n",
    "    if args.checkpoint is not None:\n",
    "        print('Restoring from checkpoint')\n",
    "        print(args.checkpoint)\n",
    "        model.load_state_dict(torch.load(args.checkpoint))\n",
    "        print('Loaded model from checkpoint')\n",
    "    else:\n",
    "        model.apply(init_weights_xavier)\n",
    "\n",
    "\n",
    "#torch.nn.utils.clip_grad_norm_(model.parameters(), 0.25)\n",
    "print('Model initialized')\n",
    "\n",
    "if args.parallel:\n",
    "    print('Using more than one gpu...')\n",
    "    model = nn.DataParallel(model)\n",
    "\n",
    "if torch.cuda.is_available():\n",
    "    model = model.cuda()\n",
    "\n",
    "lr = config.get('lr', 3e-3)\n",
    "\n",
    "if opt == 'RAdam':\n",
    "    optimizer = RAdam(model.parameters(), weight_decay = config['weights_decay'], lr=lr)\n",
    "elif opt == 'SGD':\n",
    "    optimizer = SGD(model.parameters(), weight_decay = config['weights_decay'], lr=lr)\n",
    "else:\n",
    "    optimizer = Adam(model.parameters(), weight_decay = config['weights_decay'], lr=lr)\n",
    "\n",
    "#scheduler = torch.optim.lr_scheduler.StepLR(optimizer, step_size=125, gamma=0.1)\n",
    "scheduler = torch.optim.lr_scheduler.CosineAnnealingLR(optimizer, 500)\n",
    "scheduler_warmup = GradualWarmupScheduler(optimizer, multiplier=1, total_epoch=1000, after_scheduler=scheduler)\n",
    "# train model\n",
    "\n",
    "if args.log:\n",
    "    summary_writer = SummaryWriter(\n",
    "            os.path.join(config['summary_path'],\n",
    "                datetime.datetime.now().strftime(\"%Y-%m-%d_%H:%M:%S\") + \"_{0}\".format(args.flag)))\n",
    "\n",
    "    summary_writer.add_text('config', str(config))\n",
    "else:\n",
    "    summary_writer = None\n"
   ]
  },
  {
   "cell_type": "code",
   "execution_count": null,
   "id": "4aa32f6d-1ab0-4cdc-baa5-c3d28852232b",
   "metadata": {},
   "outputs": [
    {
     "name": "stdout",
     "output_type": "stream",
     "text": [
      "Epoch 0/499\n",
      "----------\n"
     ]
    },
    {
     "name": "stderr",
     "output_type": "stream",
     "text": [
      "9it [01:09,  7.68s/it]"
     ]
    },
    {
     "name": "stdout",
     "output_type": "stream",
     "text": [
      "train Total Loss: 1.5821 | Reconstruction Loss: 1.1560 | KL Loss: 852.1877\n"
     ]
    },
    {
     "name": "stderr",
     "output_type": "stream",
     "text": [
      "\n",
      "3it [00:08,  2.81s/it]"
     ]
    },
    {
     "name": "stdout",
     "output_type": "stream",
     "text": [
      "val Total Loss: nan | Reconstruction Loss: nan | KL Loss: inf\n",
      "Epoch 1/499\n",
      "----------\n"
     ]
    },
    {
     "name": "stderr",
     "output_type": "stream",
     "text": [
      "\n",
      "9it [01:06,  7.40s/it]"
     ]
    },
    {
     "name": "stdout",
     "output_type": "stream",
     "text": [
      "train Total Loss: 1.5811 | Reconstruction Loss: 1.1632 | KL Loss: 835.7233\n"
     ]
    },
    {
     "name": "stderr",
     "output_type": "stream",
     "text": [
      "\n",
      "3it [00:09,  3.06s/it]"
     ]
    },
    {
     "name": "stdout",
     "output_type": "stream",
     "text": [
      "val Total Loss: nan | Reconstruction Loss: nan | KL Loss: inf\n",
      "Epoch 2/499\n",
      "----------\n"
     ]
    },
    {
     "name": "stderr",
     "output_type": "stream",
     "text": [
      "\n",
      "9it [01:06,  7.35s/it]"
     ]
    },
    {
     "name": "stdout",
     "output_type": "stream",
     "text": [
      "train Total Loss: 1.5729 | Reconstruction Loss: 1.1597 | KL Loss: 826.4209\n"
     ]
    },
    {
     "name": "stderr",
     "output_type": "stream",
     "text": [
      "\n",
      "3it [00:08,  2.91s/it]"
     ]
    },
    {
     "name": "stdout",
     "output_type": "stream",
     "text": [
      "val Total Loss: nan | Reconstruction Loss: nan | KL Loss: inf\n",
      "Epoch 3/499\n",
      "----------\n"
     ]
    },
    {
     "name": "stderr",
     "output_type": "stream",
     "text": [
      "\n",
      "9it [01:06,  7.44s/it]"
     ]
    },
    {
     "name": "stdout",
     "output_type": "stream",
     "text": [
      "train Total Loss: 1.5553 | Reconstruction Loss: 1.1515 | KL Loss: 807.5507\n"
     ]
    },
    {
     "name": "stderr",
     "output_type": "stream",
     "text": [
      "\n",
      "3it [00:09,  3.05s/it]"
     ]
    },
    {
     "name": "stdout",
     "output_type": "stream",
     "text": [
      "val Total Loss: nan | Reconstruction Loss: nan | KL Loss: inf\n",
      "Epoch 4/499\n",
      "----------\n"
     ]
    },
    {
     "name": "stderr",
     "output_type": "stream",
     "text": [
      "\n",
      "9it [01:07,  7.46s/it]"
     ]
    },
    {
     "name": "stdout",
     "output_type": "stream",
     "text": [
      "train Total Loss: 1.5381 | Reconstruction Loss: 1.1465 | KL Loss: 783.1877\n"
     ]
    },
    {
     "name": "stderr",
     "output_type": "stream",
     "text": [
      "\n",
      "3it [00:08,  2.78s/it]"
     ]
    },
    {
     "name": "stdout",
     "output_type": "stream",
     "text": [
      "val Total Loss: nan | Reconstruction Loss: nan | KL Loss: inf\n",
      "Epoch 5/499\n",
      "----------\n"
     ]
    },
    {
     "name": "stderr",
     "output_type": "stream",
     "text": [
      "\n",
      "9it [01:05,  7.30s/it]"
     ]
    },
    {
     "name": "stdout",
     "output_type": "stream",
     "text": [
      "train Total Loss: 1.5156 | Reconstruction Loss: 1.1367 | KL Loss: 757.9327\n"
     ]
    },
    {
     "name": "stderr",
     "output_type": "stream",
     "text": [
      "\n",
      "3it [00:08,  2.99s/it]"
     ]
    },
    {
     "name": "stdout",
     "output_type": "stream",
     "text": [
      "val Total Loss: nan | Reconstruction Loss: nan | KL Loss: inf\n",
      "Epoch 6/499\n",
      "----------\n"
     ]
    },
    {
     "name": "stderr",
     "output_type": "stream",
     "text": [
      "\n",
      "9it [01:05,  7.31s/it]"
     ]
    },
    {
     "name": "stdout",
     "output_type": "stream",
     "text": [
      "train Total Loss: 1.5080 | Reconstruction Loss: 1.1420 | KL Loss: 732.0149\n"
     ]
    },
    {
     "name": "stderr",
     "output_type": "stream",
     "text": [
      "\n",
      "3it [00:08,  2.99s/it]"
     ]
    },
    {
     "name": "stdout",
     "output_type": "stream",
     "text": [
      "val Total Loss: nan | Reconstruction Loss: nan | KL Loss: inf\n",
      "Epoch 7/499\n",
      "----------\n"
     ]
    },
    {
     "name": "stderr",
     "output_type": "stream",
     "text": [
      "\n",
      "9it [01:05,  7.31s/it]"
     ]
    },
    {
     "name": "stdout",
     "output_type": "stream",
     "text": [
      "train Total Loss: 1.4912 | Reconstruction Loss: 1.1372 | KL Loss: 707.9204\n"
     ]
    },
    {
     "name": "stderr",
     "output_type": "stream",
     "text": [
      "\n",
      "3it [00:09,  3.02s/it]"
     ]
    },
    {
     "name": "stdout",
     "output_type": "stream",
     "text": [
      "val Total Loss: nan | Reconstruction Loss: nan | KL Loss: inf\n",
      "Epoch 8/499\n",
      "----------\n"
     ]
    },
    {
     "name": "stderr",
     "output_type": "stream",
     "text": [
      "\n",
      "9it [01:06,  7.44s/it]"
     ]
    },
    {
     "name": "stdout",
     "output_type": "stream",
     "text": [
      "train Total Loss: 1.4626 | Reconstruction Loss: 1.1224 | KL Loss: 680.4498\n"
     ]
    },
    {
     "name": "stderr",
     "output_type": "stream",
     "text": [
      "\n",
      "3it [00:09,  3.00s/it]"
     ]
    },
    {
     "name": "stdout",
     "output_type": "stream",
     "text": [
      "val Total Loss: nan | Reconstruction Loss: nan | KL Loss: inf\n",
      "Epoch 9/499\n",
      "----------\n"
     ]
    },
    {
     "name": "stderr",
     "output_type": "stream",
     "text": [
      "\n",
      "9it [01:06,  7.43s/it]"
     ]
    },
    {
     "name": "stdout",
     "output_type": "stream",
     "text": [
      "train Total Loss: 1.4493 | Reconstruction Loss: 1.1230 | KL Loss: 652.5200\n"
     ]
    },
    {
     "name": "stderr",
     "output_type": "stream",
     "text": [
      "\n",
      "3it [00:08,  2.85s/it]"
     ]
    },
    {
     "name": "stdout",
     "output_type": "stream",
     "text": [
      "val Total Loss: nan | Reconstruction Loss: nan | KL Loss: inf\n",
      "Epoch 10/499\n",
      "----------\n"
     ]
    },
    {
     "name": "stderr",
     "output_type": "stream",
     "text": [
      "\n",
      "9it [01:07,  7.49s/it]"
     ]
    },
    {
     "name": "stdout",
     "output_type": "stream",
     "text": [
      "train Total Loss: 1.4187 | Reconstruction Loss: 1.1061 | KL Loss: 625.1059\n"
     ]
    },
    {
     "name": "stderr",
     "output_type": "stream",
     "text": [
      "\n",
      "3it [00:09,  3.16s/it]"
     ]
    },
    {
     "name": "stdout",
     "output_type": "stream",
     "text": [
      "val Total Loss: nan | Reconstruction Loss: nan | KL Loss: inf\n",
      "Epoch 11/499\n",
      "----------\n"
     ]
    },
    {
     "name": "stderr",
     "output_type": "stream",
     "text": [
      "\n",
      "9it [01:07,  7.51s/it]"
     ]
    },
    {
     "name": "stdout",
     "output_type": "stream",
     "text": [
      "train Total Loss: 1.4024 | Reconstruction Loss: 1.1034 | KL Loss: 597.9636\n"
     ]
    },
    {
     "name": "stderr",
     "output_type": "stream",
     "text": [
      "\n",
      "3it [00:09,  3.02s/it]"
     ]
    },
    {
     "name": "stdout",
     "output_type": "stream",
     "text": [
      "val Total Loss: nan | Reconstruction Loss: nan | KL Loss: inf\n",
      "Epoch 12/499\n",
      "----------\n"
     ]
    },
    {
     "name": "stderr",
     "output_type": "stream",
     "text": [
      "\n",
      "9it [01:06,  7.35s/it]"
     ]
    },
    {
     "name": "stdout",
     "output_type": "stream",
     "text": [
      "train Total Loss: 1.3817 | Reconstruction Loss: 1.0971 | KL Loss: 569.1502\n"
     ]
    },
    {
     "name": "stderr",
     "output_type": "stream",
     "text": [
      "\n",
      "3it [00:09,  3.06s/it]"
     ]
    },
    {
     "name": "stdout",
     "output_type": "stream",
     "text": [
      "val Total Loss: nan | Reconstruction Loss: nan | KL Loss: inf\n",
      "Epoch 13/499\n",
      "----------\n"
     ]
    },
    {
     "name": "stderr",
     "output_type": "stream",
     "text": [
      "\n",
      "9it [01:06,  7.43s/it]"
     ]
    },
    {
     "name": "stdout",
     "output_type": "stream",
     "text": [
      "train Total Loss: 1.3639 | Reconstruction Loss: 1.0941 | KL Loss: 539.6028\n"
     ]
    },
    {
     "name": "stderr",
     "output_type": "stream",
     "text": [
      "\n",
      "3it [00:09,  3.16s/it]"
     ]
    },
    {
     "name": "stdout",
     "output_type": "stream",
     "text": [
      "val Total Loss: nan | Reconstruction Loss: nan | KL Loss: inf\n",
      "Epoch 14/499\n",
      "----------\n"
     ]
    },
    {
     "name": "stderr",
     "output_type": "stream",
     "text": [
      "\n",
      "9it [01:05,  7.28s/it]"
     ]
    },
    {
     "name": "stdout",
     "output_type": "stream",
     "text": [
      "train Total Loss: 1.3205 | Reconstruction Loss: 1.0647 | KL Loss: 511.4879\n"
     ]
    },
    {
     "name": "stderr",
     "output_type": "stream",
     "text": [
      "\n",
      "3it [00:08,  2.89s/it]"
     ]
    },
    {
     "name": "stdout",
     "output_type": "stream",
     "text": [
      "val Total Loss: nan | Reconstruction Loss: nan | KL Loss: inf\n",
      "Epoch 15/499\n",
      "----------\n"
     ]
    },
    {
     "name": "stderr",
     "output_type": "stream",
     "text": [
      "\n",
      "9it [01:07,  7.51s/it]"
     ]
    },
    {
     "name": "stdout",
     "output_type": "stream",
     "text": [
      "train Total Loss: 1.2915 | Reconstruction Loss: 1.0501 | KL Loss: 482.7318\n"
     ]
    },
    {
     "name": "stderr",
     "output_type": "stream",
     "text": [
      "\n",
      "3it [00:08,  2.86s/it]"
     ]
    },
    {
     "name": "stdout",
     "output_type": "stream",
     "text": [
      "val Total Loss: nan | Reconstruction Loss: nan | KL Loss: inf\n",
      "Epoch 16/499\n",
      "----------\n"
     ]
    },
    {
     "name": "stderr",
     "output_type": "stream",
     "text": [
      "\n",
      "9it [01:05,  7.31s/it]"
     ]
    },
    {
     "name": "stdout",
     "output_type": "stream",
     "text": [
      "train Total Loss: 1.2421 | Reconstruction Loss: 1.0139 | KL Loss: 456.3419\n"
     ]
    },
    {
     "name": "stderr",
     "output_type": "stream",
     "text": [
      "\n",
      "3it [00:09,  3.05s/it]"
     ]
    },
    {
     "name": "stdout",
     "output_type": "stream",
     "text": [
      "val Total Loss: nan | Reconstruction Loss: nan | KL Loss: inf\n",
      "Epoch 17/499\n",
      "----------\n"
     ]
    },
    {
     "name": "stderr",
     "output_type": "stream",
     "text": [
      "\n",
      "9it [01:07,  7.53s/it]"
     ]
    },
    {
     "name": "stdout",
     "output_type": "stream",
     "text": [
      "train Total Loss: 1.2020 | Reconstruction Loss: 0.9872 | KL Loss: 429.4897\n"
     ]
    },
    {
     "name": "stderr",
     "output_type": "stream",
     "text": [
      "\n",
      "3it [00:09,  3.05s/it]"
     ]
    },
    {
     "name": "stdout",
     "output_type": "stream",
     "text": [
      "val Total Loss: nan | Reconstruction Loss: nan | KL Loss: inf\n",
      "Epoch 18/499\n",
      "----------\n"
     ]
    },
    {
     "name": "stderr",
     "output_type": "stream",
     "text": [
      "\n",
      "9it [01:06,  7.40s/it]"
     ]
    },
    {
     "name": "stdout",
     "output_type": "stream",
     "text": [
      "train Total Loss: 1.1524 | Reconstruction Loss: 0.9527 | KL Loss: 399.3086\n"
     ]
    },
    {
     "name": "stderr",
     "output_type": "stream",
     "text": [
      "\n",
      "3it [00:08,  2.80s/it]"
     ]
    },
    {
     "name": "stdout",
     "output_type": "stream",
     "text": [
      "val Total Loss: nan | Reconstruction Loss: nan | KL Loss: inf\n",
      "Epoch 19/499\n",
      "----------\n"
     ]
    },
    {
     "name": "stderr",
     "output_type": "stream",
     "text": [
      "\n",
      "9it [01:06,  7.35s/it]"
     ]
    },
    {
     "name": "stdout",
     "output_type": "stream",
     "text": [
      "train Total Loss: 1.1163 | Reconstruction Loss: 0.9320 | KL Loss: 368.7169\n"
     ]
    },
    {
     "name": "stderr",
     "output_type": "stream",
     "text": [
      "\n",
      "3it [00:08,  2.97s/it]"
     ]
    },
    {
     "name": "stdout",
     "output_type": "stream",
     "text": [
      "val Total Loss: nan | Reconstruction Loss: nan | KL Loss: inf\n",
      "Epoch 20/499\n",
      "----------\n"
     ]
    },
    {
     "name": "stderr",
     "output_type": "stream",
     "text": [
      "\n",
      "9it [01:07,  7.51s/it]"
     ]
    },
    {
     "name": "stdout",
     "output_type": "stream",
     "text": [
      "train Total Loss: 1.0729 | Reconstruction Loss: 0.9066 | KL Loss: 332.5914\n"
     ]
    },
    {
     "name": "stderr",
     "output_type": "stream",
     "text": [
      "\n",
      "3it [00:08,  2.99s/it]"
     ]
    },
    {
     "name": "stdout",
     "output_type": "stream",
     "text": [
      "val Total Loss: nan | Reconstruction Loss: nan | KL Loss: inf\n",
      "Epoch 21/499\n",
      "----------\n"
     ]
    },
    {
     "name": "stderr",
     "output_type": "stream",
     "text": [
      "\n",
      "9it [01:06,  7.41s/it]"
     ]
    },
    {
     "name": "stdout",
     "output_type": "stream",
     "text": [
      "train Total Loss: 1.0471 | Reconstruction Loss: 0.8977 | KL Loss: 298.6544\n"
     ]
    },
    {
     "name": "stderr",
     "output_type": "stream",
     "text": [
      "\n",
      "3it [00:08,  2.93s/it]"
     ]
    },
    {
     "name": "stdout",
     "output_type": "stream",
     "text": [
      "val Total Loss: nan | Reconstruction Loss: nan | KL Loss: inf\n",
      "Epoch 22/499\n",
      "----------\n"
     ]
    },
    {
     "name": "stderr",
     "output_type": "stream",
     "text": [
      "\n",
      "9it [01:06,  7.41s/it]"
     ]
    },
    {
     "name": "stdout",
     "output_type": "stream",
     "text": [
      "train Total Loss: 1.0230 | Reconstruction Loss: 0.8889 | KL Loss: 268.2698\n"
     ]
    },
    {
     "name": "stderr",
     "output_type": "stream",
     "text": [
      "\n",
      "3it [00:08,  2.88s/it]"
     ]
    },
    {
     "name": "stdout",
     "output_type": "stream",
     "text": [
      "val Total Loss: nan | Reconstruction Loss: nan | KL Loss: inf\n",
      "Epoch 23/499\n",
      "----------\n"
     ]
    },
    {
     "name": "stderr",
     "output_type": "stream",
     "text": [
      "\n",
      "9it [01:08,  7.63s/it]"
     ]
    },
    {
     "name": "stdout",
     "output_type": "stream",
     "text": [
      "train Total Loss: 1.0099 | Reconstruction Loss: 0.8931 | KL Loss: 233.4272\n"
     ]
    },
    {
     "name": "stderr",
     "output_type": "stream",
     "text": [
      "\n",
      "3it [00:09,  3.04s/it]"
     ]
    },
    {
     "name": "stdout",
     "output_type": "stream",
     "text": [
      "val Total Loss: nan | Reconstruction Loss: nan | KL Loss: inf\n",
      "Epoch 24/499\n",
      "----------\n"
     ]
    },
    {
     "name": "stderr",
     "output_type": "stream",
     "text": [
      "\n",
      "9it [01:06,  7.39s/it]"
     ]
    },
    {
     "name": "stdout",
     "output_type": "stream",
     "text": [
      "train Total Loss: 0.9853 | Reconstruction Loss: 0.8823 | KL Loss: 206.0254\n"
     ]
    },
    {
     "name": "stderr",
     "output_type": "stream",
     "text": [
      "\n",
      "3it [00:08,  2.98s/it]"
     ]
    },
    {
     "name": "stdout",
     "output_type": "stream",
     "text": [
      "val Total Loss: nan | Reconstruction Loss: nan | KL Loss: inf\n",
      "Epoch 25/499\n",
      "----------\n"
     ]
    },
    {
     "name": "stderr",
     "output_type": "stream",
     "text": [
      "\n",
      "9it [01:07,  7.53s/it]"
     ]
    },
    {
     "name": "stdout",
     "output_type": "stream",
     "text": [
      "train Total Loss: 0.9706 | Reconstruction Loss: 0.8783 | KL Loss: 184.6163\n"
     ]
    },
    {
     "name": "stderr",
     "output_type": "stream",
     "text": [
      "\n",
      "3it [00:08,  2.93s/it]"
     ]
    },
    {
     "name": "stdout",
     "output_type": "stream",
     "text": [
      "val Total Loss: nan | Reconstruction Loss: nan | KL Loss: inf\n",
      "Epoch 26/499\n",
      "----------\n"
     ]
    },
    {
     "name": "stderr",
     "output_type": "stream",
     "text": [
      "\n",
      "9it [01:06,  7.41s/it]"
     ]
    },
    {
     "name": "stdout",
     "output_type": "stream",
     "text": [
      "train Total Loss: 0.9649 | Reconstruction Loss: 0.8842 | KL Loss: 161.5191\n"
     ]
    },
    {
     "name": "stderr",
     "output_type": "stream",
     "text": [
      "\n",
      "3it [00:08,  2.92s/it]"
     ]
    },
    {
     "name": "stdout",
     "output_type": "stream",
     "text": [
      "val Total Loss: nan | Reconstruction Loss: nan | KL Loss: inf\n",
      "Epoch 27/499\n",
      "----------\n"
     ]
    },
    {
     "name": "stderr",
     "output_type": "stream",
     "text": [
      "\n",
      "9it [01:07,  7.46s/it]"
     ]
    },
    {
     "name": "stdout",
     "output_type": "stream",
     "text": [
      "train Total Loss: 0.9472 | Reconstruction Loss: 0.8734 | KL Loss: 147.7120\n"
     ]
    },
    {
     "name": "stderr",
     "output_type": "stream",
     "text": [
      "\n",
      "3it [00:09,  3.13s/it]"
     ]
    },
    {
     "name": "stdout",
     "output_type": "stream",
     "text": [
      "val Total Loss: nan | Reconstruction Loss: nan | KL Loss: inf\n",
      "Epoch 28/499\n",
      "----------\n"
     ]
    },
    {
     "name": "stderr",
     "output_type": "stream",
     "text": [
      "\n",
      "9it [01:07,  7.55s/it]"
     ]
    },
    {
     "name": "stdout",
     "output_type": "stream",
     "text": [
      "train Total Loss: 0.9383 | Reconstruction Loss: 0.8719 | KL Loss: 132.8155\n"
     ]
    },
    {
     "name": "stderr",
     "output_type": "stream",
     "text": [
      "\n",
      "3it [00:08,  2.94s/it]"
     ]
    },
    {
     "name": "stdout",
     "output_type": "stream",
     "text": [
      "val Total Loss: nan | Reconstruction Loss: nan | KL Loss: inf\n",
      "Epoch 29/499\n",
      "----------\n"
     ]
    },
    {
     "name": "stderr",
     "output_type": "stream",
     "text": [
      "\n",
      "9it [01:06,  7.40s/it]"
     ]
    },
    {
     "name": "stdout",
     "output_type": "stream",
     "text": [
      "train Total Loss: 0.9209 | Reconstruction Loss: 0.8620 | KL Loss: 117.8949\n"
     ]
    },
    {
     "name": "stderr",
     "output_type": "stream",
     "text": [
      "\n",
      "3it [00:08,  2.91s/it]"
     ]
    },
    {
     "name": "stdout",
     "output_type": "stream",
     "text": [
      "val Total Loss: nan | Reconstruction Loss: nan | KL Loss: inf\n",
      "Epoch 30/499\n",
      "----------\n"
     ]
    },
    {
     "name": "stderr",
     "output_type": "stream",
     "text": [
      "\n",
      "9it [01:06,  7.41s/it]"
     ]
    },
    {
     "name": "stdout",
     "output_type": "stream",
     "text": [
      "train Total Loss: 0.9150 | Reconstruction Loss: 0.8610 | KL Loss: 107.8617\n"
     ]
    },
    {
     "name": "stderr",
     "output_type": "stream",
     "text": [
      "\n",
      "3it [00:09,  3.02s/it]"
     ]
    },
    {
     "name": "stdout",
     "output_type": "stream",
     "text": [
      "val Total Loss: nan | Reconstruction Loss: nan | KL Loss: inf\n",
      "Epoch 31/499\n",
      "----------\n"
     ]
    },
    {
     "name": "stderr",
     "output_type": "stream",
     "text": [
      "\n",
      "9it [01:07,  7.48s/it]"
     ]
    },
    {
     "name": "stdout",
     "output_type": "stream",
     "text": [
      "train Total Loss: 0.9057 | Reconstruction Loss: 0.8562 | KL Loss: 99.1122\n"
     ]
    },
    {
     "name": "stderr",
     "output_type": "stream",
     "text": [
      "\n",
      "3it [00:08,  2.73s/it]"
     ]
    },
    {
     "name": "stdout",
     "output_type": "stream",
     "text": [
      "val Total Loss: nan | Reconstruction Loss: nan | KL Loss: inf\n",
      "Epoch 32/499\n",
      "----------\n"
     ]
    },
    {
     "name": "stderr",
     "output_type": "stream",
     "text": [
      "\n",
      "9it [01:06,  7.41s/it]"
     ]
    },
    {
     "name": "stdout",
     "output_type": "stream",
     "text": [
      "train Total Loss: 0.9086 | Reconstruction Loss: 0.8618 | KL Loss: 93.6613\n"
     ]
    },
    {
     "name": "stderr",
     "output_type": "stream",
     "text": [
      "\n",
      "3it [00:08,  2.94s/it]"
     ]
    },
    {
     "name": "stdout",
     "output_type": "stream",
     "text": [
      "val Total Loss: nan | Reconstruction Loss: nan | KL Loss: inf\n",
      "Epoch 33/499\n",
      "----------\n"
     ]
    },
    {
     "name": "stderr",
     "output_type": "stream",
     "text": [
      "\n",
      "9it [01:06,  7.37s/it]"
     ]
    },
    {
     "name": "stdout",
     "output_type": "stream",
     "text": [
      "train Total Loss: 0.8990 | Reconstruction Loss: 0.8559 | KL Loss: 86.2585\n"
     ]
    },
    {
     "name": "stderr",
     "output_type": "stream",
     "text": [
      "\n",
      "3it [00:08,  2.75s/it]"
     ]
    },
    {
     "name": "stdout",
     "output_type": "stream",
     "text": [
      "val Total Loss: nan | Reconstruction Loss: nan | KL Loss: inf\n",
      "Epoch 34/499\n",
      "----------\n"
     ]
    },
    {
     "name": "stderr",
     "output_type": "stream",
     "text": [
      "\n",
      "9it [01:07,  7.48s/it]"
     ]
    },
    {
     "name": "stdout",
     "output_type": "stream",
     "text": [
      "train Total Loss: 0.8957 | Reconstruction Loss: 0.8557 | KL Loss: 80.0493\n"
     ]
    },
    {
     "name": "stderr",
     "output_type": "stream",
     "text": [
      "\n",
      "3it [00:09,  3.02s/it]"
     ]
    },
    {
     "name": "stdout",
     "output_type": "stream",
     "text": [
      "val Total Loss: nan | Reconstruction Loss: nan | KL Loss: inf\n",
      "Epoch 35/499\n",
      "----------\n"
     ]
    },
    {
     "name": "stderr",
     "output_type": "stream",
     "text": [
      "\n",
      "9it [01:06,  7.38s/it]"
     ]
    },
    {
     "name": "stdout",
     "output_type": "stream",
     "text": [
      "train Total Loss: 0.8880 | Reconstruction Loss: 0.8499 | KL Loss: 76.2401\n"
     ]
    },
    {
     "name": "stderr",
     "output_type": "stream",
     "text": [
      "\n",
      "3it [00:08,  2.99s/it]"
     ]
    },
    {
     "name": "stdout",
     "output_type": "stream",
     "text": [
      "val Total Loss: nan | Reconstruction Loss: nan | KL Loss: inf\n",
      "Epoch 36/499\n",
      "----------\n"
     ]
    },
    {
     "name": "stderr",
     "output_type": "stream",
     "text": [
      "\n",
      "9it [01:07,  7.48s/it]"
     ]
    },
    {
     "name": "stdout",
     "output_type": "stream",
     "text": [
      "train Total Loss: 0.8871 | Reconstruction Loss: 0.8516 | KL Loss: 70.9259\n"
     ]
    },
    {
     "name": "stderr",
     "output_type": "stream",
     "text": [
      "\n",
      "3it [00:09,  3.12s/it]"
     ]
    },
    {
     "name": "stdout",
     "output_type": "stream",
     "text": [
      "val Total Loss: nan | Reconstruction Loss: nan | KL Loss: inf\n",
      "Epoch 37/499\n",
      "----------\n"
     ]
    },
    {
     "name": "stderr",
     "output_type": "stream",
     "text": [
      "\n",
      "9it [01:05,  7.26s/it]"
     ]
    },
    {
     "name": "stdout",
     "output_type": "stream",
     "text": [
      "train Total Loss: 0.8755 | Reconstruction Loss: 0.8413 | KL Loss: 68.3827\n"
     ]
    },
    {
     "name": "stderr",
     "output_type": "stream",
     "text": [
      "\n",
      "3it [00:08,  2.87s/it]"
     ]
    },
    {
     "name": "stdout",
     "output_type": "stream",
     "text": [
      "val Total Loss: nan | Reconstruction Loss: nan | KL Loss: inf\n",
      "Epoch 38/499\n",
      "----------\n"
     ]
    },
    {
     "name": "stderr",
     "output_type": "stream",
     "text": [
      "\n",
      "9it [01:06,  7.40s/it]"
     ]
    },
    {
     "name": "stdout",
     "output_type": "stream",
     "text": [
      "train Total Loss: 0.8667 | Reconstruction Loss: 0.8339 | KL Loss: 65.6652\n"
     ]
    },
    {
     "name": "stderr",
     "output_type": "stream",
     "text": [
      "\n",
      "3it [00:08,  2.81s/it]"
     ]
    },
    {
     "name": "stdout",
     "output_type": "stream",
     "text": [
      "val Total Loss: nan | Reconstruction Loss: nan | KL Loss: inf\n",
      "Epoch 39/499\n",
      "----------\n"
     ]
    },
    {
     "name": "stderr",
     "output_type": "stream",
     "text": [
      "\n",
      "9it [01:07,  7.53s/it]"
     ]
    },
    {
     "name": "stdout",
     "output_type": "stream",
     "text": [
      "train Total Loss: 0.8676 | Reconstruction Loss: 0.8365 | KL Loss: 62.1588\n"
     ]
    },
    {
     "name": "stderr",
     "output_type": "stream",
     "text": [
      "\n",
      "3it [00:08,  2.99s/it]"
     ]
    },
    {
     "name": "stdout",
     "output_type": "stream",
     "text": [
      "val Total Loss: nan | Reconstruction Loss: nan | KL Loss: inf\n",
      "Epoch 40/499\n",
      "----------\n"
     ]
    },
    {
     "name": "stderr",
     "output_type": "stream",
     "text": [
      "\n",
      "9it [01:07,  7.53s/it]"
     ]
    },
    {
     "name": "stdout",
     "output_type": "stream",
     "text": [
      "train Total Loss: 0.8649 | Reconstruction Loss: 0.8350 | KL Loss: 59.7078\n"
     ]
    },
    {
     "name": "stderr",
     "output_type": "stream",
     "text": [
      "\n",
      "3it [00:09,  3.07s/it]"
     ]
    },
    {
     "name": "stdout",
     "output_type": "stream",
     "text": [
      "val Total Loss: nan | Reconstruction Loss: nan | KL Loss: inf\n",
      "Epoch 41/499\n",
      "----------\n"
     ]
    },
    {
     "name": "stderr",
     "output_type": "stream",
     "text": [
      "\n",
      "9it [01:05,  7.24s/it]"
     ]
    },
    {
     "name": "stdout",
     "output_type": "stream",
     "text": [
      "train Total Loss: 0.8591 | Reconstruction Loss: 0.8299 | KL Loss: 58.3469\n"
     ]
    },
    {
     "name": "stderr",
     "output_type": "stream",
     "text": [
      "\n",
      "3it [00:08,  2.86s/it]"
     ]
    },
    {
     "name": "stdout",
     "output_type": "stream",
     "text": [
      "val Total Loss: nan | Reconstruction Loss: nan | KL Loss: inf\n",
      "Epoch 42/499\n",
      "----------\n"
     ]
    },
    {
     "name": "stderr",
     "output_type": "stream",
     "text": [
      "\n",
      "9it [01:06,  7.41s/it]"
     ]
    },
    {
     "name": "stdout",
     "output_type": "stream",
     "text": [
      "train Total Loss: 0.8584 | Reconstruction Loss: 0.8298 | KL Loss: 57.2327\n"
     ]
    },
    {
     "name": "stderr",
     "output_type": "stream",
     "text": [
      "\n",
      "3it [00:08,  2.87s/it]"
     ]
    },
    {
     "name": "stdout",
     "output_type": "stream",
     "text": [
      "val Total Loss: nan | Reconstruction Loss: nan | KL Loss: inf\n",
      "Epoch 43/499\n",
      "----------\n"
     ]
    },
    {
     "name": "stderr",
     "output_type": "stream",
     "text": [
      "\n",
      "9it [01:07,  7.50s/it]"
     ]
    },
    {
     "name": "stdout",
     "output_type": "stream",
     "text": [
      "train Total Loss: 0.8554 | Reconstruction Loss: 0.8269 | KL Loss: 57.0028\n"
     ]
    },
    {
     "name": "stderr",
     "output_type": "stream",
     "text": [
      "\n",
      "3it [00:08,  2.78s/it]"
     ]
    },
    {
     "name": "stdout",
     "output_type": "stream",
     "text": [
      "val Total Loss: nan | Reconstruction Loss: nan | KL Loss: inf\n",
      "Epoch 44/499\n",
      "----------\n"
     ]
    },
    {
     "name": "stderr",
     "output_type": "stream",
     "text": [
      "\n",
      "9it [01:06,  7.40s/it]"
     ]
    },
    {
     "name": "stdout",
     "output_type": "stream",
     "text": [
      "train Total Loss: 0.8533 | Reconstruction Loss: 0.8263 | KL Loss: 54.0912\n"
     ]
    },
    {
     "name": "stderr",
     "output_type": "stream",
     "text": [
      "\n",
      "3it [00:08,  2.89s/it]"
     ]
    },
    {
     "name": "stdout",
     "output_type": "stream",
     "text": [
      "val Total Loss: nan | Reconstruction Loss: nan | KL Loss: inf\n",
      "Epoch 45/499\n",
      "----------\n"
     ]
    },
    {
     "name": "stderr",
     "output_type": "stream",
     "text": [
      "\n",
      "9it [01:04,  7.21s/it]"
     ]
    },
    {
     "name": "stdout",
     "output_type": "stream",
     "text": [
      "train Total Loss: 0.8413 | Reconstruction Loss: 0.8152 | KL Loss: 52.3147\n"
     ]
    },
    {
     "name": "stderr",
     "output_type": "stream",
     "text": [
      "\n",
      "3it [00:09,  3.06s/it]"
     ]
    },
    {
     "name": "stdout",
     "output_type": "stream",
     "text": [
      "val Total Loss: nan | Reconstruction Loss: nan | KL Loss: inf\n",
      "Epoch 46/499\n",
      "----------\n"
     ]
    },
    {
     "name": "stderr",
     "output_type": "stream",
     "text": [
      "\n",
      "9it [01:07,  7.55s/it]"
     ]
    },
    {
     "name": "stdout",
     "output_type": "stream",
     "text": [
      "train Total Loss: 0.8378 | Reconstruction Loss: 0.8107 | KL Loss: 54.2033\n"
     ]
    },
    {
     "name": "stderr",
     "output_type": "stream",
     "text": [
      "\n",
      "3it [00:08,  2.97s/it]"
     ]
    },
    {
     "name": "stdout",
     "output_type": "stream",
     "text": [
      "val Total Loss: nan | Reconstruction Loss: nan | KL Loss: inf\n",
      "Epoch 47/499\n",
      "----------\n"
     ]
    },
    {
     "name": "stderr",
     "output_type": "stream",
     "text": [
      "\n",
      "9it [01:06,  7.34s/it]"
     ]
    },
    {
     "name": "stdout",
     "output_type": "stream",
     "text": [
      "train Total Loss: 0.8355 | Reconstruction Loss: 0.8096 | KL Loss: 51.7993\n"
     ]
    },
    {
     "name": "stderr",
     "output_type": "stream",
     "text": [
      "\n",
      "3it [00:08,  2.92s/it]"
     ]
    },
    {
     "name": "stdout",
     "output_type": "stream",
     "text": [
      "val Total Loss: nan | Reconstruction Loss: nan | KL Loss: inf\n",
      "Epoch 48/499\n",
      "----------\n"
     ]
    },
    {
     "name": "stderr",
     "output_type": "stream",
     "text": [
      "\n",
      "9it [01:09,  7.72s/it]"
     ]
    },
    {
     "name": "stdout",
     "output_type": "stream",
     "text": [
      "train Total Loss: 0.8447 | Reconstruction Loss: 0.8172 | KL Loss: 54.8543\n"
     ]
    },
    {
     "name": "stderr",
     "output_type": "stream",
     "text": [
      "\n",
      "3it [00:08,  2.98s/it]"
     ]
    },
    {
     "name": "stdout",
     "output_type": "stream",
     "text": [
      "val Total Loss: nan | Reconstruction Loss: nan | KL Loss: inf\n",
      "Epoch 49/499\n",
      "----------\n"
     ]
    },
    {
     "name": "stderr",
     "output_type": "stream",
     "text": [
      "\n",
      "9it [01:07,  7.49s/it]"
     ]
    },
    {
     "name": "stdout",
     "output_type": "stream",
     "text": [
      "train Total Loss: 0.8302 | Reconstruction Loss: 0.8035 | KL Loss: 53.3855\n"
     ]
    },
    {
     "name": "stderr",
     "output_type": "stream",
     "text": [
      "\n",
      "3it [00:08,  2.90s/it]"
     ]
    },
    {
     "name": "stdout",
     "output_type": "stream",
     "text": [
      "val Total Loss: nan | Reconstruction Loss: nan | KL Loss: inf\n",
      "Epoch 50/499\n",
      "----------\n"
     ]
    },
    {
     "name": "stderr",
     "output_type": "stream",
     "text": [
      "\n",
      "9it [01:07,  7.52s/it]"
     ]
    },
    {
     "name": "stdout",
     "output_type": "stream",
     "text": [
      "train Total Loss: 0.8222 | Reconstruction Loss: 0.7942 | KL Loss: 56.1456\n"
     ]
    },
    {
     "name": "stderr",
     "output_type": "stream",
     "text": [
      "\n",
      "3it [00:09,  3.07s/it]"
     ]
    },
    {
     "name": "stdout",
     "output_type": "stream",
     "text": [
      "val Total Loss: nan | Reconstruction Loss: nan | KL Loss: inf\n",
      "Epoch 51/499\n",
      "----------\n"
     ]
    },
    {
     "name": "stderr",
     "output_type": "stream",
     "text": [
      "\n",
      "9it [01:07,  7.46s/it]"
     ]
    },
    {
     "name": "stdout",
     "output_type": "stream",
     "text": [
      "train Total Loss: 0.8088 | Reconstruction Loss: 0.7795 | KL Loss: 58.5348\n"
     ]
    },
    {
     "name": "stderr",
     "output_type": "stream",
     "text": [
      "\n",
      "3it [00:08,  2.82s/it]"
     ]
    },
    {
     "name": "stdout",
     "output_type": "stream",
     "text": [
      "val Total Loss: nan | Reconstruction Loss: nan | KL Loss: inf\n",
      "Epoch 52/499\n",
      "----------\n"
     ]
    },
    {
     "name": "stderr",
     "output_type": "stream",
     "text": [
      "\n",
      "9it [01:07,  7.45s/it]"
     ]
    },
    {
     "name": "stdout",
     "output_type": "stream",
     "text": [
      "train Total Loss: 0.8070 | Reconstruction Loss: 0.7792 | KL Loss: 55.6925\n"
     ]
    },
    {
     "name": "stderr",
     "output_type": "stream",
     "text": [
      "\n",
      "3it [00:08,  2.85s/it]"
     ]
    },
    {
     "name": "stdout",
     "output_type": "stream",
     "text": [
      "val Total Loss: nan | Reconstruction Loss: nan | KL Loss: inf\n",
      "Epoch 53/499\n",
      "----------\n"
     ]
    },
    {
     "name": "stderr",
     "output_type": "stream",
     "text": [
      "\n",
      "9it [01:07,  7.49s/it]"
     ]
    },
    {
     "name": "stdout",
     "output_type": "stream",
     "text": [
      "train Total Loss: 0.8008 | Reconstruction Loss: 0.7723 | KL Loss: 57.0289\n"
     ]
    },
    {
     "name": "stderr",
     "output_type": "stream",
     "text": [
      "\n",
      "3it [00:09,  3.14s/it]"
     ]
    },
    {
     "name": "stdout",
     "output_type": "stream",
     "text": [
      "val Total Loss: nan | Reconstruction Loss: nan | KL Loss: inf\n",
      "Epoch 54/499\n",
      "----------\n"
     ]
    },
    {
     "name": "stderr",
     "output_type": "stream",
     "text": [
      "\n",
      "9it [01:07,  7.53s/it]"
     ]
    },
    {
     "name": "stdout",
     "output_type": "stream",
     "text": [
      "train Total Loss: 0.8120 | Reconstruction Loss: 0.7850 | KL Loss: 53.9399\n"
     ]
    },
    {
     "name": "stderr",
     "output_type": "stream",
     "text": [
      "\n",
      "3it [00:08,  2.99s/it]"
     ]
    },
    {
     "name": "stdout",
     "output_type": "stream",
     "text": [
      "val Total Loss: nan | Reconstruction Loss: nan | KL Loss: inf\n",
      "Epoch 55/499\n",
      "----------\n"
     ]
    },
    {
     "name": "stderr",
     "output_type": "stream",
     "text": [
      "\n",
      "2it [00:14,  7.44s/it]"
     ]
    }
   ],
   "source": [
    "dataloaders = {\n",
    "    'train': train_dataloader,\n",
    "    'val': val_dataloader\n",
    "}\n",
    "model, results = train_betaVAE(model, optimizer, dataloaders,\n",
    "                               save_dir=config['save_dir'],\n",
    "                               device=config['device'], \n",
    "                               log_interval=config['log_interval'],\n",
    "                               summary_writer=summary_writer,\n",
    "                               num_epochs=config['num_epochs'],\n",
    "                               scheduler=scheduler_warmup)"
   ]
  }
 ],
 "metadata": {
  "kernelspec": {
   "display_name": "Python 3 (ipykernel)",
   "language": "python",
   "name": "python3"
  },
  "language_info": {
   "codemirror_mode": {
    "name": "ipython",
    "version": 3
   },
   "file_extension": ".py",
   "mimetype": "text/x-python",
   "name": "python",
   "nbconvert_exporter": "python",
   "pygments_lexer": "ipython3",
   "version": "3.9.13"
  }
 },
 "nbformat": 4,
 "nbformat_minor": 5
}
